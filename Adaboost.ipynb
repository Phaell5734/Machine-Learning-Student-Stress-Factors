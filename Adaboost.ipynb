{
 "cells": [
  {
   "cell_type": "code",
   "execution_count": 110,
   "id": "9f979a8b-31d2-4b2a-99e0-c6745dd4b827",
   "metadata": {},
   "outputs": [],
   "source": [
    "import pandas as pd\n",
    "from sklearn.ensemble import AdaBoostClassifier\n",
    "from sklearn.model_selection import train_test_split\n",
    "from sklearn import metrics\n",
    "import warnings\n",
    "warnings.filterwarnings('ignore')"
   ]
  },
  {
   "cell_type": "code",
   "execution_count": 111,
   "id": "71d60e09-85b7-4dfd-be86-b2f1baa84064",
   "metadata": {},
   "outputs": [
    {
     "data": {
      "text/html": [
       "<div>\n",
       "<style scoped>\n",
       "    .dataframe tbody tr th:only-of-type {\n",
       "        vertical-align: middle;\n",
       "    }\n",
       "\n",
       "    .dataframe tbody tr th {\n",
       "        vertical-align: top;\n",
       "    }\n",
       "\n",
       "    .dataframe thead th {\n",
       "        text-align: right;\n",
       "    }\n",
       "</style>\n",
       "<table border=\"1\" class=\"dataframe\">\n",
       "  <thead>\n",
       "    <tr style=\"text-align: right;\">\n",
       "      <th></th>\n",
       "      <th>Kindly Rate your Sleep Quality 😴</th>\n",
       "      <th>How many times a week do you suffer headaches 🤕?</th>\n",
       "      <th>How would you rate you academic performance 👩‍🎓?</th>\n",
       "      <th>how would you rate your study load?</th>\n",
       "      <th>How many times a week you practice extracurricular activities 🎾?</th>\n",
       "      <th>How would you rate your stress levels?</th>\n",
       "    </tr>\n",
       "  </thead>\n",
       "  <tbody>\n",
       "    <tr>\n",
       "      <th>0</th>\n",
       "      <td>3</td>\n",
       "      <td>1</td>\n",
       "      <td>3</td>\n",
       "      <td>4</td>\n",
       "      <td>2</td>\n",
       "      <td>3</td>\n",
       "    </tr>\n",
       "    <tr>\n",
       "      <th>1</th>\n",
       "      <td>4</td>\n",
       "      <td>1</td>\n",
       "      <td>2</td>\n",
       "      <td>3</td>\n",
       "      <td>3</td>\n",
       "      <td>2</td>\n",
       "    </tr>\n",
       "    <tr>\n",
       "      <th>2</th>\n",
       "      <td>2</td>\n",
       "      <td>1</td>\n",
       "      <td>2</td>\n",
       "      <td>1</td>\n",
       "      <td>4</td>\n",
       "      <td>4</td>\n",
       "    </tr>\n",
       "    <tr>\n",
       "      <th>3</th>\n",
       "      <td>3</td>\n",
       "      <td>2</td>\n",
       "      <td>3</td>\n",
       "      <td>2</td>\n",
       "      <td>3</td>\n",
       "      <td>3</td>\n",
       "    </tr>\n",
       "    <tr>\n",
       "      <th>4</th>\n",
       "      <td>2</td>\n",
       "      <td>3</td>\n",
       "      <td>1</td>\n",
       "      <td>5</td>\n",
       "      <td>5</td>\n",
       "      <td>3</td>\n",
       "    </tr>\n",
       "  </tbody>\n",
       "</table>\n",
       "</div>"
      ],
      "text/plain": [
       "   Kindly Rate your Sleep Quality 😴  \\\n",
       "0                                 3   \n",
       "1                                 4   \n",
       "2                                 2   \n",
       "3                                 3   \n",
       "4                                 2   \n",
       "\n",
       "   How many times a week do you suffer headaches 🤕?  \\\n",
       "0                                                 1   \n",
       "1                                                 1   \n",
       "2                                                 1   \n",
       "3                                                 2   \n",
       "4                                                 3   \n",
       "\n",
       "   How would you rate you academic performance 👩‍🎓?  \\\n",
       "0                                                 3   \n",
       "1                                                 2   \n",
       "2                                                 2   \n",
       "3                                                 3   \n",
       "4                                                 1   \n",
       "\n",
       "   how would you rate your study load?  \\\n",
       "0                                    4   \n",
       "1                                    3   \n",
       "2                                    1   \n",
       "3                                    2   \n",
       "4                                    5   \n",
       "\n",
       "   How many times a week you practice extracurricular activities 🎾?  \\\n",
       "0                                                  2                  \n",
       "1                                                  3                  \n",
       "2                                                  4                  \n",
       "3                                                  3                  \n",
       "4                                                  5                  \n",
       "\n",
       "   How would you rate your stress levels?  \n",
       "0                                       3  \n",
       "1                                       2  \n",
       "2                                       4  \n",
       "3                                       3  \n",
       "4                                       3  "
      ]
     },
     "execution_count": 111,
     "metadata": {},
     "output_type": "execute_result"
    }
   ],
   "source": [
    "LoanData = pd.read_csv(\"Student Stress Factors (2).csv\")\n",
    "\n",
    "LoanData.head(5)\n"
   ]
  },
  {
   "cell_type": "code",
   "execution_count": 112,
   "id": "c6001bde-0b00-4529-b988-b98b3e320dad",
   "metadata": {},
   "outputs": [],
   "source": [
    "X = LoanData.iloc[:,0:5]\n",
    "y = LoanData.iloc[:,5]"
   ]
  },
  {
   "cell_type": "code",
   "execution_count": 113,
   "id": "42e1918c-462e-4d5b-b234-198ed52795f0",
   "metadata": {},
   "outputs": [],
   "source": [
    "X_train, X_test, y_train, y_test = train_test_split(X, y, test_size = 0.2, random_state = 21)"
   ]
  },
  {
   "cell_type": "code",
   "execution_count": 114,
   "id": "b56ea5ec-d34f-4be0-99a1-64f67c18591e",
   "metadata": {},
   "outputs": [],
   "source": [
    "AdaModel = AdaBoostClassifier(n_estimators=100,\n",
    "                              learning_rate=1)"
   ]
  },
  {
   "cell_type": "code",
   "execution_count": 115,
   "id": "01138920-556d-41e7-bfd1-ca7c4da44d9c",
   "metadata": {},
   "outputs": [],
   "source": [
    "model = AdaModel.fit(X_train, y_train)\n",
    "\n",
    "y_pred = model.predict(X_test)"
   ]
  },
  {
   "cell_type": "code",
   "execution_count": 116,
   "id": "84f37ed8-5817-4f6d-9a32-a2a9e79951b4",
   "metadata": {},
   "outputs": [
    {
     "data": {
      "text/plain": [
       "0.33653846153846156"
      ]
     },
     "execution_count": 116,
     "metadata": {},
     "output_type": "execute_result"
    }
   ],
   "source": [
    "metrics.accuracy_score(y_test, y_pred)"
   ]
  },
  {
   "cell_type": "code",
   "execution_count": 117,
   "id": "a4e5a6b5-6c1f-49c6-b007-d4904283899d",
   "metadata": {},
   "outputs": [],
   "source": [
    "from sklearn.linear_model import LogisticRegression\n",
    "\n",
    "mylogregmodel = LogisticRegression()\n",
    "\n",
    "\n",
    "adabc = AdaBoostClassifier(n_estimators=5, base_estimator=mylogregmodel,learning_rate=1)"
   ]
  },
  {
   "cell_type": "code",
   "execution_count": 118,
   "id": "e1b2e7ce-8768-451e-9cdc-2b13a4aa788a",
   "metadata": {},
   "outputs": [],
   "source": [
    "model=adabc.fit(X_train, y_train)\n",
    "\n",
    "y_pred = model.predict(X_test)"
   ]
  },
  {
   "cell_type": "code",
   "execution_count": 119,
   "id": "685730b9-f693-4507-8b43-bd15c5b50348",
   "metadata": {},
   "outputs": [
    {
     "data": {
      "text/plain": [
       "0.4326923076923077"
      ]
     },
     "execution_count": 119,
     "metadata": {},
     "output_type": "execute_result"
    }
   ],
   "source": [
    "metrics.accuracy_score(y_test, y_pred)"
   ]
  },
  {
   "cell_type": "code",
   "execution_count": null,
   "id": "5439c260-1042-4ff7-a943-94fdc33795f0",
   "metadata": {},
   "outputs": [],
   "source": []
  }
 ],
 "metadata": {
  "kernelspec": {
   "display_name": "Python 3 (ipykernel)",
   "language": "python",
   "name": "python3"
  },
  "language_info": {
   "codemirror_mode": {
    "name": "ipython",
    "version": 3
   },
   "file_extension": ".py",
   "mimetype": "text/x-python",
   "name": "python",
   "nbconvert_exporter": "python",
   "pygments_lexer": "ipython3",
   "version": "3.12.1"
  }
 },
 "nbformat": 4,
 "nbformat_minor": 5
}
